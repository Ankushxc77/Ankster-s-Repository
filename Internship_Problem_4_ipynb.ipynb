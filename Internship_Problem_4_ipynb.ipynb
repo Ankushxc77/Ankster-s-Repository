{
  "nbformat": 4,
  "nbformat_minor": 0,
  "metadata": {
    "colab": {
      "name": "Internship Problem 4 ipynb",
      "provenance": [],
      "collapsed_sections": [],
      "authorship_tag": "ABX9TyMVUWi38wn6Udux1UHZEaBE",
      "include_colab_link": true
    },
    "kernelspec": {
      "name": "python3",
      "display_name": "Python 3"
    },
    "language_info": {
      "name": "python"
    }
  },
  "cells": [
    {
      "cell_type": "markdown",
      "metadata": {
        "id": "view-in-github",
        "colab_type": "text"
      },
      "source": [
        "<a href=\"https://colab.research.google.com/github/Ankushxc77/Ankster-s-Repository/blob/main/Internship_Problem_4_ipynb.ipynb\" target=\"_parent\"><img src=\"https://colab.research.google.com/assets/colab-badge.svg\" alt=\"Open In Colab\"/></a>"
      ]
    },
    {
      "cell_type": "code",
      "source": [
        "# Step 1 - Load Data\n",
        "import pandas as pd\n",
        "dataset = pd.read_csv(\"/content/iphone_purchase_records.csv\")\n",
        "X = dataset.iloc[:,:-1].values\n",
        "y = dataset.iloc[:, 3].values"
      ],
      "metadata": {
        "id": "IA49asEJGwuL"
      },
      "execution_count": null,
      "outputs": []
    },
    {
      "cell_type": "code",
      "source": [
        "# Step 2 - Convert Gender to number\n",
        "from sklearn.preprocessing import LabelEncoder\n",
        "labelEncoder_gender =  LabelEncoder()\n",
        "X[:,0] = labelEncoder_gender.fit_transform(X[:,0])"
      ],
      "metadata": {
        "id": "p84y_Lb3JmzS"
      },
      "execution_count": null,
      "outputs": []
    },
    {
      "cell_type": "code",
      "source": [
        "import numpy as np\n",
        "X = np.vstack(X[:, :]).astype(np.float)"
      ],
      "metadata": {
        "colab": {
          "base_uri": "https://localhost:8080/"
        },
        "id": "bmdJDxM4JmvK",
        "outputId": "fe870d96-c166-4e4c-9f36-9f65462de9bd"
      },
      "execution_count": null,
      "outputs": [
        {
          "output_type": "stream",
          "name": "stderr",
          "text": [
            "/usr/local/lib/python3.7/dist-packages/ipykernel_launcher.py:2: DeprecationWarning: `np.float` is a deprecated alias for the builtin `float`. To silence this warning, use `float` by itself. Doing this will not modify any behavior and is safe. If you specifically wanted the numpy scalar type, use `np.float64` here.\n",
            "Deprecated in NumPy 1.20; for more details and guidance: https://numpy.org/devdocs/release/1.20.0-notes.html#deprecations\n",
            "  \n"
          ]
        }
      ]
    },
    {
      "cell_type": "code",
      "source": [
        "# Step 3 - Split Data\n",
        "from sklearn.model_selection import train_test_split\n",
        "X_train, X_test, y_train, y_test = train_test_split(X, y, test_size=0.25, random_state=0)"
      ],
      "metadata": {
        "id": "qSCStJytJmtM"
      },
      "execution_count": null,
      "outputs": []
    },
    {
      "cell_type": "code",
      "source": [
        "# Step 4 - Fit the classifier\n",
        "from sklearn.tree import DecisionTreeClassifier\n",
        "classifier = DecisionTreeClassifier(criterion = \"entropy\", random_state=0)\n",
        "classifier.fit(X_train, y_train)"
      ],
      "metadata": {
        "colab": {
          "base_uri": "https://localhost:8080/"
        },
        "id": "IRnWYlMEJmq6",
        "outputId": "c569bb73-733b-41a9-b61a-e8de69b3de6f"
      },
      "execution_count": null,
      "outputs": [
        {
          "output_type": "execute_result",
          "data": {
            "text/plain": [
              "DecisionTreeClassifier(criterion='entropy', random_state=0)"
            ]
          },
          "metadata": {},
          "execution_count": 5
        }
      ]
    },
    {
      "cell_type": "code",
      "source": [
        "# Step 5 - Predict\n",
        "y_pred = classifier.predict(X_test)\n"
      ],
      "metadata": {
        "id": "ue6sn_06Jmo0"
      },
      "execution_count": null,
      "outputs": []
    },
    {
      "cell_type": "code",
      "source": [
        "# Step 6 - Evaluate the model performance\n",
        "from sklearn import metrics\n",
        "cm = metrics.confusion_matrix(y_test, y_pred) \n",
        "print(cm)\n",
        "accuracy = metrics.accuracy_score(y_test, y_pred) \n",
        "print(\"Accuracy score:\",accuracy)\n",
        "precision = metrics.precision_score(y_test, y_pred) \n",
        "print(\"Precision score:\",precision)\n",
        "recall = metrics.recall_score(y_test, y_pred) \n",
        "print(\"Recall score:\",recall)"
      ],
      "metadata": {
        "colab": {
          "base_uri": "https://localhost:8080/"
        },
        "id": "ROfAcIfCJmkL",
        "outputId": "0704ebc2-6cd3-4aa8-9c9b-e30449281b49"
      },
      "execution_count": null,
      "outputs": [
        {
          "output_type": "stream",
          "name": "stdout",
          "text": [
            "[[63  5]\n",
            " [ 3 29]]\n",
            "Accuracy score: 0.92\n",
            "Precision score: 0.8529411764705882\n",
            "Recall score: 0.90625\n"
          ]
        }
      ]
    }
  ]
}